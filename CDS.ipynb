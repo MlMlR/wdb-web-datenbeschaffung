{
 "cells": [
  {
   "cell_type": "code",
   "execution_count": 2,
   "id": "initial_id",
   "metadata": {
    "collapsed": true,
    "ExecuteTime": {
     "end_time": "2024-03-05T14:12:08.780427800Z",
     "start_time": "2024-03-05T14:11:55.339511400Z"
    }
   },
   "outputs": [
    {
     "name": "stderr",
     "output_type": "stream",
     "text": [
      "2024-03-05 15:11:55,527 INFO Welcome to the CDS\n",
      "2024-03-05 15:11:55,528 INFO Sending request to https://cds.climate.copernicus.eu/api/v2/resources/sis-tourism-fire-danger-indicators\n",
      "2024-03-05 15:11:55,609 INFO Request is queued\n",
      "2024-03-05 15:11:56,632 INFO Request is running\n",
      "2024-03-05 15:12:03,832 INFO Request is completed\n",
      "2024-03-05 15:12:03,833 INFO Downloading https://download-0007-clone.copernicus-climate.eu/cache-compute-0007/cache/data0/dataset-sis-tourism-fire-danger-indicators-13366ccf-148a-4c71-b17f-68d6d799e0e7.zip to downloads/sis_tourism_fire_danger_indicators.zip (32.2M)\n",
      "2024-03-05 15:12:08,750 INFO Download rate 6.6M/s   \n"
     ]
    }
   ],
   "source": [
    "import cdsapi\n",
    "\n",
    "c = cdsapi.Client()\n",
    "\n",
    "def download_data():\n",
    "    c.retrieve(\n",
    "        'sis-tourism-fire-danger-indicators',\n",
    "        {\n",
    "            'format': 'zip',\n",
    "            'time_aggregation': 'seasonal_indicators',\n",
    "            'product_type': 'multi_model_mean_case',\n",
    "            'variable': 'seasonal_fire_weather_index',\n",
    "            'experiment': 'historical',\n",
    "            'period': [\n",
    "                '1971_1975', '1976_1980', '1981_1985',\n",
    "                '1986_1990', '1991_1995', '1996_2000',\n",
    "                '2001_2005',\n",
    "            ],\n",
    "            'version': 'v2_0',\n",
    "        },\n",
    "        'downloads/sis_tourism_fire_danger_indicators.zip')\n",
    "\n",
    "\n",
    "download_data()"
   ]
  },
  {
   "cell_type": "code",
   "outputs": [
    {
     "data": {
      "text/plain": "2"
     },
     "execution_count": 1,
     "metadata": {},
     "output_type": "execute_result"
    }
   ],
   "source": [
    "1+1\n"
   ],
   "metadata": {
    "collapsed": false,
    "ExecuteTime": {
     "end_time": "2024-03-05T14:11:44.907090600Z",
     "start_time": "2024-03-05T14:11:44.889612200Z"
    }
   },
   "id": "728bf253e75d5e7d",
   "execution_count": 1
  },
  {
   "cell_type": "code",
   "outputs": [
    {
     "name": "stdout",
     "output_type": "stream",
     "text": [
      "Extracted files to downloads/extracted\n"
     ]
    }
   ],
   "source": [
    "import zipfile\n",
    "import os\n",
    "\n",
    "# Replace 'extract_to_directory' with the directory where you want to extract the files\n",
    "extract_to_directory = 'downloads/extracted'\n",
    "\n",
    "# Create the directory if it doesn't exist\n",
    "os.makedirs(extract_to_directory, exist_ok=True)\n",
    "\n",
    "# Open the ZIP file\n",
    "with zipfile.ZipFile('downloads/sis_tourism_fire_danger_indicators.zip', 'r') as zip_ref:\n",
    "    # Extract all the contents into the directory\n",
    "    zip_ref.extractall(extract_to_directory)\n",
    "\n",
    "print(f\"Extracted files to {extract_to_directory}\")\n"
   ],
   "metadata": {
    "collapsed": false,
    "ExecuteTime": {
     "end_time": "2024-03-05T14:13:48.602106700Z",
     "start_time": "2024-03-05T14:13:48.308922200Z"
    }
   },
   "id": "d2f5f292133e1d76",
   "execution_count": 3
  },
  {
   "cell_type": "code",
   "outputs": [],
   "source": [
    "import xarray as xr\n",
    "\n",
    "\n",
    "dataset = xr.open_dataset('downloads/extracted/mean-model_historical_fwi-mean-jjas_19710101_19751231_v2.nc')\n",
    "df = dataset.to_dataframe()\n",
    "\n",
    "# # Depending on your dataset, you might need to reset the index if it's a multi-index DataFrame\n",
    "# df.reset_index(inplace=True)\n",
    "# # Replace 'your_data.csv' with your desired output CSV file name\n",
    "# df.to_csv('data/sis_tourism_fire_danger_indicators/mean-model_historical_fwi-mean-jjas_20010101_20051231_v2.csv', index=False)\n"
   ],
   "metadata": {
    "collapsed": false,
    "ExecuteTime": {
     "end_time": "2024-03-05T14:15:36.830041400Z",
     "start_time": "2024-03-05T14:15:36.666666300Z"
    }
   },
   "id": "1e8cc01d597635d5",
   "execution_count": 5
  },
  {
   "cell_type": "code",
   "outputs": [
    {
     "data": {
      "text/plain": "                                rotated_pole               time_bnds  \\\nrlon    rlat    time       bnds                                        \n-28.375 -23.375 1970-11-01 0             b'' 1970-11-01 00:00:00.000   \n                           1             b'' 1971-10-31 23:59:59.600   \n                1971-11-01 0             b'' 1971-11-01 00:00:00.000   \n                           1             b'' 1972-10-31 23:59:59.600   \n                1972-11-01 0             b'' 1972-11-01 00:00:00.000   \n...                                      ...                     ...   \n 18.155  21.835 1972-11-01 1             b'' 1973-10-31 23:59:59.600   \n                1973-11-01 0             b'' 1973-11-01 00:00:00.000   \n                           1             b'' 1974-10-31 23:59:59.600   \n                1974-11-01 0             b'' 1974-11-01 00:00:00.000   \n                           1             b'' 1975-10-31 23:59:59.600   \n\n                                 fwi-mean-jjas        lon        lat  \nrlon    rlat    time       bnds                                       \n-28.375 -23.375 1970-11-01 0         67.937522 -10.063880  21.987829  \n                           1         67.937522 -10.063880  21.987829  \n                1971-11-01 0         64.881964 -10.063880  21.987829  \n                           1         64.881964 -10.063880  21.987829  \n                1972-11-01 0         66.717170 -10.063880  21.987829  \n...                                        ...        ...        ...  \n 18.155  21.835 1972-11-01 1          3.024700  64.964377  66.689837  \n                1973-11-01 0          2.952893  64.964377  66.689837  \n                           1          2.952893  64.964377  66.689837  \n                1974-11-01 0          3.451839  64.964377  66.689837  \n                           1          3.451839  64.964377  66.689837  \n\n[1746880 rows x 5 columns]",
      "text/html": "<div>\n<style scoped>\n    .dataframe tbody tr th:only-of-type {\n        vertical-align: middle;\n    }\n\n    .dataframe tbody tr th {\n        vertical-align: top;\n    }\n\n    .dataframe thead th {\n        text-align: right;\n    }\n</style>\n<table border=\"1\" class=\"dataframe\">\n  <thead>\n    <tr style=\"text-align: right;\">\n      <th></th>\n      <th></th>\n      <th></th>\n      <th></th>\n      <th>rotated_pole</th>\n      <th>time_bnds</th>\n      <th>fwi-mean-jjas</th>\n      <th>lon</th>\n      <th>lat</th>\n    </tr>\n    <tr>\n      <th>rlon</th>\n      <th>rlat</th>\n      <th>time</th>\n      <th>bnds</th>\n      <th></th>\n      <th></th>\n      <th></th>\n      <th></th>\n      <th></th>\n    </tr>\n  </thead>\n  <tbody>\n    <tr>\n      <th rowspan=\"5\" valign=\"top\">-28.375</th>\n      <th rowspan=\"5\" valign=\"top\">-23.375</th>\n      <th rowspan=\"2\" valign=\"top\">1970-11-01</th>\n      <th>0</th>\n      <td>b''</td>\n      <td>1970-11-01 00:00:00.000</td>\n      <td>67.937522</td>\n      <td>-10.063880</td>\n      <td>21.987829</td>\n    </tr>\n    <tr>\n      <th>1</th>\n      <td>b''</td>\n      <td>1971-10-31 23:59:59.600</td>\n      <td>67.937522</td>\n      <td>-10.063880</td>\n      <td>21.987829</td>\n    </tr>\n    <tr>\n      <th rowspan=\"2\" valign=\"top\">1971-11-01</th>\n      <th>0</th>\n      <td>b''</td>\n      <td>1971-11-01 00:00:00.000</td>\n      <td>64.881964</td>\n      <td>-10.063880</td>\n      <td>21.987829</td>\n    </tr>\n    <tr>\n      <th>1</th>\n      <td>b''</td>\n      <td>1972-10-31 23:59:59.600</td>\n      <td>64.881964</td>\n      <td>-10.063880</td>\n      <td>21.987829</td>\n    </tr>\n    <tr>\n      <th>1972-11-01</th>\n      <th>0</th>\n      <td>b''</td>\n      <td>1972-11-01 00:00:00.000</td>\n      <td>66.717170</td>\n      <td>-10.063880</td>\n      <td>21.987829</td>\n    </tr>\n    <tr>\n      <th>...</th>\n      <th>...</th>\n      <th>...</th>\n      <th>...</th>\n      <td>...</td>\n      <td>...</td>\n      <td>...</td>\n      <td>...</td>\n      <td>...</td>\n    </tr>\n    <tr>\n      <th rowspan=\"5\" valign=\"top\">18.155</th>\n      <th rowspan=\"5\" valign=\"top\">21.835</th>\n      <th>1972-11-01</th>\n      <th>1</th>\n      <td>b''</td>\n      <td>1973-10-31 23:59:59.600</td>\n      <td>3.024700</td>\n      <td>64.964377</td>\n      <td>66.689837</td>\n    </tr>\n    <tr>\n      <th rowspan=\"2\" valign=\"top\">1973-11-01</th>\n      <th>0</th>\n      <td>b''</td>\n      <td>1973-11-01 00:00:00.000</td>\n      <td>2.952893</td>\n      <td>64.964377</td>\n      <td>66.689837</td>\n    </tr>\n    <tr>\n      <th>1</th>\n      <td>b''</td>\n      <td>1974-10-31 23:59:59.600</td>\n      <td>2.952893</td>\n      <td>64.964377</td>\n      <td>66.689837</td>\n    </tr>\n    <tr>\n      <th rowspan=\"2\" valign=\"top\">1974-11-01</th>\n      <th>0</th>\n      <td>b''</td>\n      <td>1974-11-01 00:00:00.000</td>\n      <td>3.451839</td>\n      <td>64.964377</td>\n      <td>66.689837</td>\n    </tr>\n    <tr>\n      <th>1</th>\n      <td>b''</td>\n      <td>1975-10-31 23:59:59.600</td>\n      <td>3.451839</td>\n      <td>64.964377</td>\n      <td>66.689837</td>\n    </tr>\n  </tbody>\n</table>\n<p>1746880 rows × 5 columns</p>\n</div>"
     },
     "execution_count": 6,
     "metadata": {},
     "output_type": "execute_result"
    }
   ],
   "source": [
    "df"
   ],
   "metadata": {
    "collapsed": false,
    "ExecuteTime": {
     "end_time": "2024-03-05T14:15:41.067450400Z",
     "start_time": "2024-03-05T14:15:41.042312400Z"
    }
   },
   "id": "1d578cc9ca2e6148",
   "execution_count": 6
  },
  {
   "cell_type": "code",
   "outputs": [
    {
     "ename": "AttributeError",
     "evalue": "module '__main__' has no attribute '__file__'",
     "output_type": "error",
     "traceback": [
      "\u001B[0;31m---------------------------------------------------------------------------\u001B[0m",
      "\u001B[0;31mAttributeError\u001B[0m                            Traceback (most recent call last)",
      "Cell \u001B[0;32mIn[16], line 7\u001B[0m\n\u001B[1;32m      1\u001B[0m \u001B[38;5;124;03m\"\"\"\u001B[39;00m\n\u001B[1;32m      2\u001B[0m \u001B[38;5;124;03mMagics title\u001B[39;00m\n\u001B[1;32m      3\u001B[0m \u001B[38;5;124;03m============\u001B[39;00m\n\u001B[1;32m      4\u001B[0m \n\u001B[1;32m      5\u001B[0m \u001B[38;5;124;03mPlot a map with Magics defining a custom title and subtitle.\u001B[39;00m\n\u001B[1;32m      6\u001B[0m \u001B[38;5;124;03m\"\"\"\u001B[39;00m\n\u001B[0;32m----> 7\u001B[0m \u001B[38;5;28;01mimport\u001B[39;00m \u001B[38;5;21;01mcdstoolbox\u001B[39;00m \u001B[38;5;28;01mas\u001B[39;00m \u001B[38;5;21;01mct\u001B[39;00m\n\u001B[1;32m     10\u001B[0m \u001B[38;5;129m@ct\u001B[39m\u001B[38;5;241m.\u001B[39mapplication(title\u001B[38;5;241m=\u001B[39m\u001B[38;5;124m'\u001B[39m\u001B[38;5;124mMagics custom title\u001B[39m\u001B[38;5;124m'\u001B[39m, description\u001B[38;5;241m=\u001B[39m\u001B[38;5;124m'\u001B[39m\u001B[38;5;124mPlot a map with Magics defining a custom title and subtitle.\u001B[39m\u001B[38;5;124m'\u001B[39m)\n\u001B[1;32m     11\u001B[0m \u001B[38;5;129m@ct\u001B[39m\u001B[38;5;241m.\u001B[39moutput\u001B[38;5;241m.\u001B[39mfigure()\n\u001B[1;32m     12\u001B[0m \u001B[38;5;28;01mdef\u001B[39;00m \u001B[38;5;21mapplication\u001B[39m():\n\u001B[1;32m     13\u001B[0m     \u001B[38;5;66;03m# Retrieve global 2m temperature for a given day and time\u001B[39;00m\n\u001B[1;32m     14\u001B[0m     data \u001B[38;5;241m=\u001B[39m ct\u001B[38;5;241m.\u001B[39mcatalogue\u001B[38;5;241m.\u001B[39mretrieve(\n\u001B[1;32m     15\u001B[0m         \u001B[38;5;124m'\u001B[39m\u001B[38;5;124mreanalysis-era5-single-levels\u001B[39m\u001B[38;5;124m'\u001B[39m,\n\u001B[1;32m     16\u001B[0m         {\n\u001B[0;32m   (...)\u001B[0m\n\u001B[1;32m     23\u001B[0m         }\n\u001B[1;32m     24\u001B[0m     )\n",
      "File \u001B[0;32m~/miniconda3/envs/wdb/lib/python3.11/site-packages/cdstoolbox/__init__.py:8\u001B[0m\n\u001B[1;32m      3\u001B[0m \u001B[38;5;28;01mimport\u001B[39;00m \u001B[38;5;21;01msys\u001B[39;00m\n\u001B[1;32m      6\u001B[0m c \u001B[38;5;241m=\u001B[39m cdsapi\u001B[38;5;241m.\u001B[39mClient()\n\u001B[0;32m----> 8\u001B[0m \u001B[38;5;28;01mwith\u001B[39;00m \u001B[38;5;28mopen\u001B[39m(\u001B[43m__main__\u001B[49m\u001B[38;5;241;43m.\u001B[39;49m\u001B[38;5;18;43m__file__\u001B[39;49m) \u001B[38;5;28;01mas\u001B[39;00m f:\n\u001B[1;32m      9\u001B[0m    code \u001B[38;5;241m=\u001B[39m f\u001B[38;5;241m.\u001B[39mread()\n\u001B[1;32m     11\u001B[0m \u001B[38;5;28mprint\u001B[39m(c\u001B[38;5;241m.\u001B[39mdownload(c\u001B[38;5;241m.\u001B[39mworkflow(code)))\n",
      "\u001B[0;31mAttributeError\u001B[0m: module '__main__' has no attribute '__file__'"
     ]
    }
   ],
   "source": [
    "\"\"\"\n",
    "Magics title\n",
    "============\n",
    "\n",
    "Plot a map with Magics defining a custom title and subtitle.\n",
    "\"\"\"\n",
    "import cdstoolbox as ct\n",
    "\n",
    "\n",
    "@ct.application(title='Magics custom title', description='Plot a map with Magics defining a custom title and subtitle.')\n",
    "@ct.output.figure()\n",
    "def application():\n",
    "    # Retrieve global 2m temperature for a given day and time\n",
    "    data = ct.catalogue.retrieve(\n",
    "        'reanalysis-era5-single-levels',\n",
    "        {\n",
    "            'variable': '10m_u_component_of_wind',\n",
    "            'product_type': 'reanalysis',\n",
    "            'year': '2017',\n",
    "            'month': '01',\n",
    "            'day': '01',\n",
    "            'time': '12:00'\n",
    "        }\n",
    "    )\n",
    "\n",
    "    # The title and sub-titles can be passed to Magics as a list of strings. The first element of the list is the main title and the following ones the subtitles.\n",
    "    fig = ct.map.plot(data, title=['10m u component of wind', 'm/s'])\n",
    "\n",
    "    return fig"
   ],
   "metadata": {
    "collapsed": false,
    "ExecuteTime": {
     "end_time": "2024-02-18T11:18:47.577097500Z",
     "start_time": "2024-02-18T11:18:47.548129300Z"
    }
   },
   "id": "239806961719a881",
   "execution_count": 16
  },
  {
   "cell_type": "code",
   "outputs": [
    {
     "name": "stdout",
     "output_type": "stream",
     "text": [
      "40.68000000000000000000000000\n",
      "-40.68000000000000000000000000\n"
     ]
    }
   ],
   "source": [
    "from decimal import Decimal\n",
    "def dms_to_dd(dms):\n",
    "    \"\"\"Convert degrees:minutes:seconds to decimal degrees, accounting for hemisphere.\"\"\"\n",
    "    # Extract the sign (+ or -) from the start of the string\n",
    "    sign = 1 if dms[0] == '+' else -1  # Assume + if no sign is explicitly given\n",
    "\n",
    "    # Remove the sign from the string to avoid conversion issues\n",
    "    dms = dms[1:] if dms[0] in '+-' else dms\n",
    "\n",
    "    # Convert DMS to decimal degrees\n",
    "    degrees, minutes, seconds = map(Decimal, dms.split(':'))\n",
    "    return sign * (degrees + (minutes / 60) + (seconds / 3600))\n",
    "\n",
    "print(dms_to_dd('+40:40:48'))\n",
    "print(dms_to_dd('-40:40:48'))\n",
    "\n",
    "# -40.680000"
   ],
   "metadata": {
    "collapsed": false,
    "ExecuteTime": {
     "end_time": "2024-03-01T06:17:41.260328900Z",
     "start_time": "2024-03-01T06:17:41.250402Z"
    }
   },
   "id": "5bc9e23490c00210",
   "execution_count": 10
  },
  {
   "cell_type": "code",
   "outputs": [
    {
     "data": {
      "text/plain": "Decimal('17')"
     },
     "execution_count": 8,
     "metadata": {},
     "output_type": "execute_result"
    }
   ],
   "source": [],
   "metadata": {
    "collapsed": false,
    "ExecuteTime": {
     "end_time": "2024-02-29T22:23:36.196489800Z",
     "start_time": "2024-02-29T22:23:36.187739700Z"
    }
   },
   "id": "7304281653fa662f",
   "execution_count": 8
  }
 ],
 "metadata": {
  "kernelspec": {
   "display_name": "Python 3",
   "language": "python",
   "name": "python3"
  },
  "language_info": {
   "codemirror_mode": {
    "name": "ipython",
    "version": 2
   },
   "file_extension": ".py",
   "mimetype": "text/x-python",
   "name": "python",
   "nbconvert_exporter": "python",
   "pygments_lexer": "ipython2",
   "version": "2.7.6"
  }
 },
 "nbformat": 4,
 "nbformat_minor": 5
}
