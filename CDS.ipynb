{
 "cells": [
  {
   "cell_type": "code",
   "execution_count": 7,
   "id": "initial_id",
   "metadata": {
    "collapsed": true,
    "ExecuteTime": {
     "end_time": "2024-02-18T10:27:34.397194700Z",
     "start_time": "2024-02-18T10:25:37.105917100Z"
    }
   },
   "outputs": [
    {
     "name": "stderr",
     "output_type": "stream",
     "text": [
      "2024-02-18 11:25:37,663 INFO Welcome to the CDS\n",
      "2024-02-18 11:25:37,663 INFO Sending request to https://cds.climate.copernicus.eu/api/v2/resources/satellite-fire-burned-area\n",
      "2024-02-18 11:25:37,860 INFO Request is queued\n",
      "2024-02-18 11:25:38,901 INFO Request is running\n",
      "2024-02-18 11:27:31,679 INFO Request is completed\n",
      "2024-02-18 11:27:31,680 INFO Downloading https://download-0009-clone.copernicus-climate.eu/cache-compute-0009/cache/data1/dataset-satellite-fire-burned-area-98ce22cb-4f66-464f-87c6-c777f6d22d28.zip to download.zip (17.9M)\n",
      "2024-02-18 11:27:34,393 INFO Download rate 6.6M/s   \n"
     ]
    }
   ],
   "source": [
    "import cdsapi\n",
    "\n",
    "c = cdsapi.Client()\n",
    "\n",
    "def download_data():\n",
    "    c.retrieve(\n",
    "        'sis-tourism-fire-danger-indicators',\n",
    "        {\n",
    "            'format': 'zip',\n",
    "            'time_aggregation': 'seasonal_indicators',\n",
    "            'product_type': 'multi_model_mean_case',\n",
    "            'variable': 'seasonal_fire_weather_index',\n",
    "            'experiment': 'historical',\n",
    "            'period': [\n",
    "                '1971_1975', '1976_1980', '1981_1985',\n",
    "                '1986_1990', '1991_1995', '1996_2000',\n",
    "                '2001_2005',\n",
    "            ],\n",
    "            'version': 'v2_0',\n",
    "        },\n",
    "        'sis_tourism_fire_danger_indicators.zip')\n",
    "\n",
    "\n",
    "download_data()"
   ]
  },
  {
   "cell_type": "code",
   "outputs": [
    {
     "name": "stderr",
     "output_type": "stream",
     "text": [
      "2024-02-18 13:29:24,977 INFO Welcome to the CDS\n",
      "2024-02-18 13:29:24,978 INFO Sending request to https://cds.climate.copernicus.eu/api/v2/resources/sis-tourism-fire-danger-indicators\n",
      "2024-02-18 13:29:25,047 INFO Request is queued\n",
      "2024-02-18 13:29:26,090 INFO Request is running\n",
      "2024-02-18 13:29:33,344 INFO Request is completed\n",
      "2024-02-18 13:29:33,346 INFO Downloading https://download-0004-clone.copernicus-climate.eu/cache-compute-0004/cache/data2/dataset-sis-tourism-fire-danger-indicators-6e1047b3-7f18-42be-8349-170d75071dcf.zip to sis_tourism_fire_danger_indicators.zip (32.2M)\n",
      "2024-02-18 13:29:37,877 INFO Download rate 7.1M/s   \n"
     ]
    }
   ],
   "source": [
    "\n"
   ],
   "metadata": {
    "collapsed": false,
    "ExecuteTime": {
     "end_time": "2024-02-18T12:29:37.934631900Z",
     "start_time": "2024-02-18T12:29:24.768367300Z"
    }
   },
   "id": "728bf253e75d5e7d",
   "execution_count": 20
  },
  {
   "cell_type": "code",
   "outputs": [
    {
     "name": "stdout",
     "output_type": "stream",
     "text": [
      "Extracted files to data/sis_tourism_fire_danger_indicators\n"
     ]
    }
   ],
   "source": [
    "import zipfile\n",
    "import os\n",
    "\n",
    "# Replace 'extract_to_directory' with the directory where you want to extract the files\n",
    "extract_to_directory = 'data/sis_tourism_fire_danger_indicators'\n",
    "\n",
    "# Create the directory if it doesn't exist\n",
    "os.makedirs(extract_to_directory, exist_ok=True)\n",
    "\n",
    "# Open the ZIP file\n",
    "with zipfile.ZipFile('sis_tourism_fire_danger_indicators.zip', 'r') as zip_ref:\n",
    "    # Extract all the contents into the directory\n",
    "    zip_ref.extractall(extract_to_directory)\n",
    "\n",
    "print(f\"Extracted files to {extract_to_directory}\")\n"
   ],
   "metadata": {
    "collapsed": false,
    "ExecuteTime": {
     "end_time": "2024-02-18T12:32:42.241084300Z",
     "start_time": "2024-02-18T12:32:41.973253800Z"
    }
   },
   "id": "d2f5f292133e1d76",
   "execution_count": 21
  },
  {
   "cell_type": "code",
   "outputs": [],
   "source": [
    "import xarray as xr\n",
    "\n",
    "\n",
    "dataset = xr.open_dataset('data/sis_tourism_fire_danger_indicators/mean-model_historical_fwi-mean-jjas_20010101_20051231_v2.nc')\n",
    "df_20010101_20051231_v2 = dataset.to_dataframe()\n",
    "\n",
    "# # Depending on your dataset, you might need to reset the index if it's a multi-index DataFrame\n",
    "# df.reset_index(inplace=True)\n",
    "# # Replace 'your_data.csv' with your desired output CSV file name\n",
    "# df.to_csv('data/sis_tourism_fire_danger_indicators/mean-model_historical_fwi-mean-jjas_20010101_20051231_v2.csv', index=False)\n"
   ],
   "metadata": {
    "collapsed": false,
    "ExecuteTime": {
     "end_time": "2024-02-18T12:38:17.827895800Z",
     "start_time": "2024-02-18T12:38:17.729590Z"
    }
   },
   "id": "1e8cc01d597635d5",
   "execution_count": 22
  },
  {
   "cell_type": "code",
   "outputs": [
    {
     "data": {
      "text/plain": "                                rotated_pole               time_bnds  \\\nrlon    rlat    time       bnds                                        \n-28.375 -23.375 2000-11-01 0             b'' 2000-11-01 00:00:00.000   \n                           1             b'' 2001-10-31 23:59:59.600   \n                2001-11-01 0             b'' 2001-11-01 00:00:00.000   \n                           1             b'' 2002-10-31 23:59:59.600   \n                2002-11-01 0             b'' 2002-11-01 00:00:00.000   \n...                                      ...                     ...   \n 18.155  21.835 2002-11-01 1             b'' 2003-10-31 23:59:59.600   \n                2003-11-01 0             b'' 2003-11-01 00:00:00.000   \n                           1             b'' 2004-10-31 23:59:59.600   \n                2004-11-01 0             b'' 2004-11-01 00:00:00.000   \n                           1             b'' 2005-10-31 23:59:59.600   \n\n                                 fwi-mean-jjas        lon        lat  \nrlon    rlat    time       bnds                                       \n-28.375 -23.375 2000-11-01 0         65.349053 -10.063880  21.987829  \n                           1         65.349053 -10.063880  21.987829  \n                2001-11-01 0         66.906141 -10.063880  21.987829  \n                           1         66.906141 -10.063880  21.987829  \n                2002-11-01 0         62.495506 -10.063880  21.987829  \n...                                        ...        ...        ...  \n 18.155  21.835 2002-11-01 1          3.060997  64.964377  66.689837  \n                2003-11-01 0          3.712115  64.964377  66.689837  \n                           1          3.712115  64.964377  66.689837  \n                2004-11-01 0          2.767484  64.964377  66.689837  \n                           1          2.767484  64.964377  66.689837  \n\n[1746880 rows x 5 columns]",
      "text/html": "<div>\n<style scoped>\n    .dataframe tbody tr th:only-of-type {\n        vertical-align: middle;\n    }\n\n    .dataframe tbody tr th {\n        vertical-align: top;\n    }\n\n    .dataframe thead th {\n        text-align: right;\n    }\n</style>\n<table border=\"1\" class=\"dataframe\">\n  <thead>\n    <tr style=\"text-align: right;\">\n      <th></th>\n      <th></th>\n      <th></th>\n      <th></th>\n      <th>rotated_pole</th>\n      <th>time_bnds</th>\n      <th>fwi-mean-jjas</th>\n      <th>lon</th>\n      <th>lat</th>\n    </tr>\n    <tr>\n      <th>rlon</th>\n      <th>rlat</th>\n      <th>time</th>\n      <th>bnds</th>\n      <th></th>\n      <th></th>\n      <th></th>\n      <th></th>\n      <th></th>\n    </tr>\n  </thead>\n  <tbody>\n    <tr>\n      <th rowspan=\"5\" valign=\"top\">-28.375</th>\n      <th rowspan=\"5\" valign=\"top\">-23.375</th>\n      <th rowspan=\"2\" valign=\"top\">2000-11-01</th>\n      <th>0</th>\n      <td>b''</td>\n      <td>2000-11-01 00:00:00.000</td>\n      <td>65.349053</td>\n      <td>-10.063880</td>\n      <td>21.987829</td>\n    </tr>\n    <tr>\n      <th>1</th>\n      <td>b''</td>\n      <td>2001-10-31 23:59:59.600</td>\n      <td>65.349053</td>\n      <td>-10.063880</td>\n      <td>21.987829</td>\n    </tr>\n    <tr>\n      <th rowspan=\"2\" valign=\"top\">2001-11-01</th>\n      <th>0</th>\n      <td>b''</td>\n      <td>2001-11-01 00:00:00.000</td>\n      <td>66.906141</td>\n      <td>-10.063880</td>\n      <td>21.987829</td>\n    </tr>\n    <tr>\n      <th>1</th>\n      <td>b''</td>\n      <td>2002-10-31 23:59:59.600</td>\n      <td>66.906141</td>\n      <td>-10.063880</td>\n      <td>21.987829</td>\n    </tr>\n    <tr>\n      <th>2002-11-01</th>\n      <th>0</th>\n      <td>b''</td>\n      <td>2002-11-01 00:00:00.000</td>\n      <td>62.495506</td>\n      <td>-10.063880</td>\n      <td>21.987829</td>\n    </tr>\n    <tr>\n      <th>...</th>\n      <th>...</th>\n      <th>...</th>\n      <th>...</th>\n      <td>...</td>\n      <td>...</td>\n      <td>...</td>\n      <td>...</td>\n      <td>...</td>\n    </tr>\n    <tr>\n      <th rowspan=\"5\" valign=\"top\">18.155</th>\n      <th rowspan=\"5\" valign=\"top\">21.835</th>\n      <th>2002-11-01</th>\n      <th>1</th>\n      <td>b''</td>\n      <td>2003-10-31 23:59:59.600</td>\n      <td>3.060997</td>\n      <td>64.964377</td>\n      <td>66.689837</td>\n    </tr>\n    <tr>\n      <th rowspan=\"2\" valign=\"top\">2003-11-01</th>\n      <th>0</th>\n      <td>b''</td>\n      <td>2003-11-01 00:00:00.000</td>\n      <td>3.712115</td>\n      <td>64.964377</td>\n      <td>66.689837</td>\n    </tr>\n    <tr>\n      <th>1</th>\n      <td>b''</td>\n      <td>2004-10-31 23:59:59.600</td>\n      <td>3.712115</td>\n      <td>64.964377</td>\n      <td>66.689837</td>\n    </tr>\n    <tr>\n      <th rowspan=\"2\" valign=\"top\">2004-11-01</th>\n      <th>0</th>\n      <td>b''</td>\n      <td>2004-11-01 00:00:00.000</td>\n      <td>2.767484</td>\n      <td>64.964377</td>\n      <td>66.689837</td>\n    </tr>\n    <tr>\n      <th>1</th>\n      <td>b''</td>\n      <td>2005-10-31 23:59:59.600</td>\n      <td>2.767484</td>\n      <td>64.964377</td>\n      <td>66.689837</td>\n    </tr>\n  </tbody>\n</table>\n<p>1746880 rows × 5 columns</p>\n</div>"
     },
     "execution_count": 24,
     "metadata": {},
     "output_type": "execute_result"
    }
   ],
   "source": [
    "df_20010101_20051231_v2"
   ],
   "metadata": {
    "collapsed": false,
    "ExecuteTime": {
     "end_time": "2024-02-18T12:38:45.351551Z",
     "start_time": "2024-02-18T12:38:45.329800400Z"
    }
   },
   "id": "1d578cc9ca2e6148",
   "execution_count": 24
  },
  {
   "cell_type": "code",
   "outputs": [
    {
     "ename": "AttributeError",
     "evalue": "module '__main__' has no attribute '__file__'",
     "output_type": "error",
     "traceback": [
      "\u001B[0;31m---------------------------------------------------------------------------\u001B[0m",
      "\u001B[0;31mAttributeError\u001B[0m                            Traceback (most recent call last)",
      "Cell \u001B[0;32mIn[16], line 7\u001B[0m\n\u001B[1;32m      1\u001B[0m \u001B[38;5;124;03m\"\"\"\u001B[39;00m\n\u001B[1;32m      2\u001B[0m \u001B[38;5;124;03mMagics title\u001B[39;00m\n\u001B[1;32m      3\u001B[0m \u001B[38;5;124;03m============\u001B[39;00m\n\u001B[1;32m      4\u001B[0m \n\u001B[1;32m      5\u001B[0m \u001B[38;5;124;03mPlot a map with Magics defining a custom title and subtitle.\u001B[39;00m\n\u001B[1;32m      6\u001B[0m \u001B[38;5;124;03m\"\"\"\u001B[39;00m\n\u001B[0;32m----> 7\u001B[0m \u001B[38;5;28;01mimport\u001B[39;00m \u001B[38;5;21;01mcdstoolbox\u001B[39;00m \u001B[38;5;28;01mas\u001B[39;00m \u001B[38;5;21;01mct\u001B[39;00m\n\u001B[1;32m     10\u001B[0m \u001B[38;5;129m@ct\u001B[39m\u001B[38;5;241m.\u001B[39mapplication(title\u001B[38;5;241m=\u001B[39m\u001B[38;5;124m'\u001B[39m\u001B[38;5;124mMagics custom title\u001B[39m\u001B[38;5;124m'\u001B[39m, description\u001B[38;5;241m=\u001B[39m\u001B[38;5;124m'\u001B[39m\u001B[38;5;124mPlot a map with Magics defining a custom title and subtitle.\u001B[39m\u001B[38;5;124m'\u001B[39m)\n\u001B[1;32m     11\u001B[0m \u001B[38;5;129m@ct\u001B[39m\u001B[38;5;241m.\u001B[39moutput\u001B[38;5;241m.\u001B[39mfigure()\n\u001B[1;32m     12\u001B[0m \u001B[38;5;28;01mdef\u001B[39;00m \u001B[38;5;21mapplication\u001B[39m():\n\u001B[1;32m     13\u001B[0m     \u001B[38;5;66;03m# Retrieve global 2m temperature for a given day and time\u001B[39;00m\n\u001B[1;32m     14\u001B[0m     data \u001B[38;5;241m=\u001B[39m ct\u001B[38;5;241m.\u001B[39mcatalogue\u001B[38;5;241m.\u001B[39mretrieve(\n\u001B[1;32m     15\u001B[0m         \u001B[38;5;124m'\u001B[39m\u001B[38;5;124mreanalysis-era5-single-levels\u001B[39m\u001B[38;5;124m'\u001B[39m,\n\u001B[1;32m     16\u001B[0m         {\n\u001B[0;32m   (...)\u001B[0m\n\u001B[1;32m     23\u001B[0m         }\n\u001B[1;32m     24\u001B[0m     )\n",
      "File \u001B[0;32m~/miniconda3/envs/wdb/lib/python3.11/site-packages/cdstoolbox/__init__.py:8\u001B[0m\n\u001B[1;32m      3\u001B[0m \u001B[38;5;28;01mimport\u001B[39;00m \u001B[38;5;21;01msys\u001B[39;00m\n\u001B[1;32m      6\u001B[0m c \u001B[38;5;241m=\u001B[39m cdsapi\u001B[38;5;241m.\u001B[39mClient()\n\u001B[0;32m----> 8\u001B[0m \u001B[38;5;28;01mwith\u001B[39;00m \u001B[38;5;28mopen\u001B[39m(\u001B[43m__main__\u001B[49m\u001B[38;5;241;43m.\u001B[39;49m\u001B[38;5;18;43m__file__\u001B[39;49m) \u001B[38;5;28;01mas\u001B[39;00m f:\n\u001B[1;32m      9\u001B[0m    code \u001B[38;5;241m=\u001B[39m f\u001B[38;5;241m.\u001B[39mread()\n\u001B[1;32m     11\u001B[0m \u001B[38;5;28mprint\u001B[39m(c\u001B[38;5;241m.\u001B[39mdownload(c\u001B[38;5;241m.\u001B[39mworkflow(code)))\n",
      "\u001B[0;31mAttributeError\u001B[0m: module '__main__' has no attribute '__file__'"
     ]
    }
   ],
   "source": [
    "\"\"\"\n",
    "Magics title\n",
    "============\n",
    "\n",
    "Plot a map with Magics defining a custom title and subtitle.\n",
    "\"\"\"\n",
    "import cdstoolbox as ct\n",
    "\n",
    "\n",
    "@ct.application(title='Magics custom title', description='Plot a map with Magics defining a custom title and subtitle.')\n",
    "@ct.output.figure()\n",
    "def application():\n",
    "    # Retrieve global 2m temperature for a given day and time\n",
    "    data = ct.catalogue.retrieve(\n",
    "        'reanalysis-era5-single-levels',\n",
    "        {\n",
    "            'variable': '10m_u_component_of_wind',\n",
    "            'product_type': 'reanalysis',\n",
    "            'year': '2017',\n",
    "            'month': '01',\n",
    "            'day': '01',\n",
    "            'time': '12:00'\n",
    "        }\n",
    "    )\n",
    "\n",
    "    # The title and sub-titles can be passed to Magics as a list of strings. The first element of the list is the main title and the following ones the subtitles.\n",
    "    fig = ct.map.plot(data, title=['10m u component of wind', 'm/s'])\n",
    "\n",
    "    return fig"
   ],
   "metadata": {
    "collapsed": false,
    "ExecuteTime": {
     "end_time": "2024-02-18T11:18:47.577097500Z",
     "start_time": "2024-02-18T11:18:47.548129300Z"
    }
   },
   "id": "239806961719a881",
   "execution_count": 16
  },
  {
   "cell_type": "code",
   "outputs": [
    {
     "name": "stdout",
     "output_type": "stream",
     "text": [
      "40.68000000000000000000000000\n",
      "-40.68000000000000000000000000\n"
     ]
    }
   ],
   "source": [
    "from decimal import Decimal\n",
    "def dms_to_dd(dms):\n",
    "    \"\"\"Convert degrees:minutes:seconds to decimal degrees, accounting for hemisphere.\"\"\"\n",
    "    # Extract the sign (+ or -) from the start of the string\n",
    "    sign = 1 if dms[0] == '+' else -1  # Assume + if no sign is explicitly given\n",
    "\n",
    "    # Remove the sign from the string to avoid conversion issues\n",
    "    dms = dms[1:] if dms[0] in '+-' else dms\n",
    "\n",
    "    # Convert DMS to decimal degrees\n",
    "    degrees, minutes, seconds = map(Decimal, dms.split(':'))\n",
    "    return sign * (degrees + (minutes / 60) + (seconds / 3600))\n",
    "\n",
    "print(dms_to_dd('+40:40:48'))\n",
    "print(dms_to_dd('-40:40:48'))\n",
    "\n",
    "# -40.680000"
   ],
   "metadata": {
    "collapsed": false,
    "ExecuteTime": {
     "end_time": "2024-03-01T06:17:41.260328900Z",
     "start_time": "2024-03-01T06:17:41.250402Z"
    }
   },
   "id": "5bc9e23490c00210",
   "execution_count": 10
  },
  {
   "cell_type": "code",
   "outputs": [
    {
     "data": {
      "text/plain": "Decimal('17')"
     },
     "execution_count": 8,
     "metadata": {},
     "output_type": "execute_result"
    }
   ],
   "source": [
    "sum(map(Decimal, '-008:13:12'.split(':')))"
   ],
   "metadata": {
    "collapsed": false,
    "ExecuteTime": {
     "end_time": "2024-02-29T22:23:36.196489800Z",
     "start_time": "2024-02-29T22:23:36.187739700Z"
    }
   },
   "id": "7304281653fa662f",
   "execution_count": 8
  }
 ],
 "metadata": {
  "kernelspec": {
   "display_name": "Python 3",
   "language": "python",
   "name": "python3"
  },
  "language_info": {
   "codemirror_mode": {
    "name": "ipython",
    "version": 2
   },
   "file_extension": ".py",
   "mimetype": "text/x-python",
   "name": "python",
   "nbconvert_exporter": "python",
   "pygments_lexer": "ipython2",
   "version": "2.7.6"
  }
 },
 "nbformat": 4,
 "nbformat_minor": 5
}
